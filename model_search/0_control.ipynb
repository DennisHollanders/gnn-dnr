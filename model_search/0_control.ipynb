{
 "cells": [
  {
   "cell_type": "code",
   "execution_count": null,
   "metadata": {},
   "outputs": [],
   "source": [
    "import os\n",
    "import yaml\n",
    "import optuna\n",
    "import subprocess"
   ]
  },
  {
   "cell_type": "code",
   "execution_count": null,
   "metadata": {},
   "outputs": [],
   "source": [
    "def create_config(trial, folder=\"configs\"):\n",
    "    os.makedirs(folder, exist_ok=True)\n",
    "    params = {\n",
    "        \"seed\": 42,\n",
    "        \"max_epochs\": 5,\n",
    "        \"gpus\": 1,\n",
    "        \"batch_size\": 32,\n",
    "        \"num_workers\": 4,\n",
    "        \"in_channels\": 16,\n",
    "        \"hidden_dim\": trial.suggest_int(\"hidden_dim\", 16, 64),\n",
    "        \"out_channels\": 4,\n",
    "        \"lr\": trial.suggest_loguniform(\"lr\", 1e-4, 1e-2),\n",
    "        \"weight_decay\": trial.suggest_loguniform(\"weight_decay\", 1e-6, 1e-4),\n",
    "        \"logging\": {\n",
    "            \"project_name\": \"gnn_dist_reconfig_hpo\",\n",
    "            \"offline\": True\n",
    "        },\n",
    "        \"checkpoint\": {\n",
    "            \"dirpath\": \"checkpoints\",\n",
    "            \"filename\": f\"best-checkpoint-trial{trial.number}\",\n",
    "            \"monitor\": \"val_total_loss\"\n",
    "        },\n",
    "        \"loss_weights\": {\n",
    "            \"main\": 1.0,\n",
    "            \"radiality\": trial.suggest_float(\"radiality_w\", 0.1, 0.5),\n",
    "            \"voltage_flow\": trial.suggest_float(\"voltage_flow_w\", 0.05, 0.3)\n",
    "        }\n",
    "    }\n",
    "    config_path = os.path.join(folder, f\"config_{trial.number}.yaml\")\n",
    "    with open(config_path, \"w\") as f:\n",
    "        yaml.dump(params, f)\n",
    "    return config_path\n",
    "\n",
    "def objective(trial):\n",
    "    config_path = create_config(trial)\n",
    "    cmd = f\"python pl_training.py {config_path}\"\n",
    "    subprocess.run(cmd, shell=True)\n",
    "\n",
    "    return 0.0\n",
    "\n",
    "study = optuna.create_study(direction=\"minimize\")\n",
    "study.optimize(objective, n_trials=3)\n"
   ]
  },
  {
   "cell_type": "code",
   "execution_count": null,
   "metadata": {},
   "outputs": [],
   "source": [
    "config_file = \"configs/config_0.yaml\"\n",
    "slurm_script = \"run_training.slurm\"\n",
    "subprocess.run([\"sbatch\", slurm_script, config_file])"
   ]
  },
  {
   "cell_type": "code",
   "execution_count": null,
   "metadata": {},
   "outputs": [],
   "source": [
    "#sbatch run_training.slurm configs/config.yaml"
   ]
  }
 ],
 "metadata": {
  "kernelspec": {
   "display_name": "thesis-dnr-gnn-dev-NzJfn8Tn-py3.10",
   "language": "python",
   "name": "python3"
  },
  "language_info": {
   "name": "python",
   "version": "3.10.0"
  }
 },
 "nbformat": 4,
 "nbformat_minor": 2
}
